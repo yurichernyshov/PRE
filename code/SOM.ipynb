{
 "cells": [
  {
   "cell_type": "markdown",
   "metadata": {},
   "source": [
    "# Карты самоорганизации (Self Orginized Map, SOM).\n",
    "\n"
   ]
  },
  {
   "cell_type": "markdown",
   "metadata": {},
   "source": [
    "# Оглавление <a name='toc'></a>\n",
    "\n",
    "<ul>\n",
    "    <li><a href='#article'>Выходные данные статьи</a></li>       \n",
    "    <li><a href='#algorythm'>Алгоритм решения, использованного в статье</a></li>        \n",
    "    <li><a href='#implementation'>Имплементация</a></li>        \n",
    "    <li><a href='#ideas'>Идеи по применению и дальнейшему развитию</a></li>\n",
    "    <li><a href='#links'>Полезные ссылки</a></li>    \n",
    "</ul>"
   ]
  },
  {
   "cell_type": "markdown",
   "metadata": {},
   "source": [
    "# Выходные данные статьи <a name='article'></a>"
   ]
  },
  {
   "cell_type": "markdown",
   "metadata": {},
   "source": [
    "T. Kohonnen (Finnland) The Self-Organizing Maps. 1990. https://sci2s.ugr.es/keel/pdf/algorithm/articulo/1990-Kohonen-PIEEE.pdf\n",
    "\n",
    "Метод кластеризации, без учителя."
   ]
  },
  {
   "cell_type": "markdown",
   "metadata": {},
   "source": [
    "# Алгоритм решения, использованного в статье <a name='algorythm'></a>"
   ]
  },
  {
   "cell_type": "markdown",
   "metadata": {},
   "source": [
    "Описан универсальный алгоритм кластеризации объектов с использованием нейронных сетей методом «обучения без учителя».\n",
    "\n",
    "Нейронная сеть состоит из нейронов, расположенных в одномерном или двумерном массиве, количество весов нейронов равно размерности векторов входных данных. Слоев нейронов может быть два – один (входной) для приема входных данных, другой (исходящий для визуализации полученных результатов).\n",
    "\n",
    "Алгоритм состоит из нескольких шагов:\n",
    "1.\tИнициализация весов нейронов (случайными значениями, либо значениями случайно выбранного входного вектора)\n",
    "2.\tВыбор входного вектора, поиск ближайшего к нему нейрона, определение границы нейрона-победителя, выравнивание (приближение к входному вектору) весов нейрона победителя и ближайших к нему нейронов (чем дальше от победителя, тем меньше добавка, граница соседей уменьшается с увеличением итераций, скорость уменьшения является гиперпараметром)\n",
    "3.\tМногократное повторение процедуры для всех весов.\n",
    "\n",
    "В результате получается карта признаков – каждый нейрон находится в одном из кластеров. Найдя для любого входного вектора ближайший к нему нейрон можно сопоставить этот входной вектор с кластером нейрона.\n",
    "Алгоритм хорош для визуализации многомерных процессов.\n"
   ]
  },
  {
   "cell_type": "markdown",
   "metadata": {},
   "source": [
    "# Имплементация <a name='implementation'></a>"
   ]
  },
  {
   "cell_type": "code",
   "execution_count": 2,
   "metadata": {},
   "outputs": [],
   "source": [
    "import pickle\n",
    "import numpy as np\n",
    "import matplotlib.pyplot as plt\n",
    "from scipy.spatial.distance import euclidean\n",
    "import copy\n",
    "\n",
    "from matplotlib.animation import FuncAnimation, ArtistAnimation"
   ]
  },
  {
   "cell_type": "markdown",
   "metadata": {},
   "source": [
    "#### Описание функций"
   ]
  },
  {
   "cell_type": "code",
   "execution_count": 6,
   "metadata": {},
   "outputs": [],
   "source": [
    "def calc_distance_between_neurons(x1, y1, x2, y2):\n",
    "    return np.max([np.abs(x1-x2), np.abs(y1-y2)])\n",
    "\n",
    "def calc_neighbours_coeff(d, sigma):\n",
    "    return np.exp(-d**2/2/sigma**2)"
   ]
  },
  {
   "cell_type": "code",
   "execution_count": 7,
   "metadata": {},
   "outputs": [
    {
     "data": {
      "image/png": "[encoded data removed]",
      "text/plain": [
       "<Figure size 432x288 with 1 Axes>"
      ]
     },
     "metadata": {
      "needs_background": "light"
     },
     "output_type": "display_data"
    }
   ],
   "source": [
    "xs = np.linspace(-10,10,1000)\n",
    "plt.plot(xs, [calc_neighbours_coeff(x, 10) for x in xs], label=\"$\\sigma$=10\")\n",
    "plt.plot(xs, [calc_neighbours_coeff(x, 5) for x in xs], label=\"$\\sigma$=5\")\n",
    "plt.plot(xs, [calc_neighbours_coeff(x, 1) for x in xs], label=\"$\\sigma$=1\")\n",
    "plt.plot(xs, [calc_neighbours_coeff(x, 0.1) for x in xs], label=\"$\\sigma$=0.1\")\n",
    "plt.legend(loc='upper right')\n",
    "plt.show()"
   ]
  },
  {
   "cell_type": "markdown",
   "metadata": {},
   "source": [
    "#### Алгоритм расчета"
   ]
  },
  {
   "cell_type": "code",
   "execution_count": 162,
   "metadata": {},
   "outputs": [],
   "source": [
    "# эвристики для начальных значений параметров из статьи https://habr.com/ru/post/334810/\n",
    "\n",
    "dim = 100\n",
    "channels = 3\n",
    "\n",
    "sigma0 = dim // 10\n",
    "tau1 = 10000 / np.log(sigma0)\n",
    "\n",
    "eta0 = 1\n",
    "tau2 = 10000\n",
    "\n",
    "weights = np.random.random(size=(dim, dim, channels))\n",
    "colors = np.random.random(size=(1000, channels))\n",
    "\n",
    "epochs = 200\n",
    "step = 0\n",
    "\n",
    "verbose = 0\n",
    "    "
   ]
  },
  {
   "cell_type": "markdown",
   "metadata": {},
   "source": [
    "!NB Оценивать сумму расстояний между элементами вектора и ближайшими нейронами."
   ]
  },
  {
   "cell_type": "code",
   "execution_count": 168,
   "metadata": {},
   "outputs": [
    {
     "ename": "KeyboardInterrupt",
     "evalue": "",
     "output_type": "error",
     "traceback": [
      "\u001b[0;31m---------------------------------------------------------------------------\u001b[0m",
      "\u001b[0;31mKeyboardInterrupt\u001b[0m                         Traceback (most recent call last)",
      "\u001b[0;32m<ipython-input-168-1d6fdfa45298>\u001b[0m in \u001b[0;36m<module>\u001b[0;34m\u001b[0m\n\u001b[1;32m     11\u001b[0m             \u001b[0;32mfor\u001b[0m \u001b[0md2\u001b[0m \u001b[0;32min\u001b[0m \u001b[0mrange\u001b[0m\u001b[0;34m(\u001b[0m\u001b[0mdim\u001b[0m\u001b[0;34m)\u001b[0m\u001b[0;34m:\u001b[0m\u001b[0;34m\u001b[0m\u001b[0;34m\u001b[0m\u001b[0m\n\u001b[1;32m     12\u001b[0m                 \u001b[0;32mfor\u001b[0m \u001b[0mchnl\u001b[0m \u001b[0;32min\u001b[0m \u001b[0mrange\u001b[0m\u001b[0;34m(\u001b[0m\u001b[0mchannels\u001b[0m\u001b[0;34m)\u001b[0m\u001b[0;34m:\u001b[0m\u001b[0;34m\u001b[0m\u001b[0;34m\u001b[0m\u001b[0m\n\u001b[0;32m---> 13\u001b[0;31m                     \u001b[0mdist\u001b[0m \u001b[0;34m=\u001b[0m \u001b[0mcalc_distance_between_neurons\u001b[0m\u001b[0;34m(\u001b[0m\u001b[0mn\u001b[0m\u001b[0;34m,\u001b[0m \u001b[0mm\u001b[0m\u001b[0;34m,\u001b[0m \u001b[0md1\u001b[0m\u001b[0;34m,\u001b[0m \u001b[0md2\u001b[0m\u001b[0;34m)\u001b[0m\u001b[0;34m\u001b[0m\u001b[0;34m\u001b[0m\u001b[0m\n\u001b[0m\u001b[1;32m     14\u001b[0m                     \u001b[0msigma\u001b[0m \u001b[0;34m=\u001b[0m \u001b[0msigma0\u001b[0m \u001b[0;34m*\u001b[0m \u001b[0mnp\u001b[0m\u001b[0;34m.\u001b[0m\u001b[0mexp\u001b[0m\u001b[0;34m(\u001b[0m\u001b[0;34m-\u001b[0m\u001b[0mstep\u001b[0m\u001b[0;34m**\u001b[0m\u001b[0;36m2\u001b[0m \u001b[0;34m/\u001b[0m \u001b[0mtau1\u001b[0m\u001b[0;34m)\u001b[0m\u001b[0;34m\u001b[0m\u001b[0;34m\u001b[0m\u001b[0m\n\u001b[1;32m     15\u001b[0m                     \u001b[0meta\u001b[0m \u001b[0;34m=\u001b[0m \u001b[0meta0\u001b[0m \u001b[0;34m*\u001b[0m \u001b[0mnp\u001b[0m\u001b[0;34m.\u001b[0m\u001b[0mexp\u001b[0m\u001b[0;34m(\u001b[0m\u001b[0;34m-\u001b[0m\u001b[0mstep\u001b[0m\u001b[0;34m**\u001b[0m\u001b[0;36m2\u001b[0m \u001b[0;34m/\u001b[0m \u001b[0mtau2\u001b[0m\u001b[0;34m)\u001b[0m\u001b[0;34m\u001b[0m\u001b[0;34m\u001b[0m\u001b[0m\n",
      "\u001b[0;32m<ipython-input-6-937276fd6f05>\u001b[0m in \u001b[0;36mcalc_distance_between_neurons\u001b[0;34m(x1, y1, x2, y2)\u001b[0m\n\u001b[1;32m      1\u001b[0m \u001b[0;32mdef\u001b[0m \u001b[0mcalc_distance_between_neurons\u001b[0m\u001b[0;34m(\u001b[0m\u001b[0mx1\u001b[0m\u001b[0;34m,\u001b[0m \u001b[0my1\u001b[0m\u001b[0;34m,\u001b[0m \u001b[0mx2\u001b[0m\u001b[0;34m,\u001b[0m \u001b[0my2\u001b[0m\u001b[0;34m)\u001b[0m\u001b[0;34m:\u001b[0m\u001b[0;34m\u001b[0m\u001b[0;34m\u001b[0m\u001b[0m\n\u001b[0;32m----> 2\u001b[0;31m     \u001b[0;32mreturn\u001b[0m \u001b[0mnp\u001b[0m\u001b[0;34m.\u001b[0m\u001b[0mmax\u001b[0m\u001b[0;34m(\u001b[0m\u001b[0;34m[\u001b[0m\u001b[0mnp\u001b[0m\u001b[0;34m.\u001b[0m\u001b[0mabs\u001b[0m\u001b[0;34m(\u001b[0m\u001b[0mx1\u001b[0m\u001b[0;34m-\u001b[0m\u001b[0mx2\u001b[0m\u001b[0;34m)\u001b[0m\u001b[0;34m,\u001b[0m \u001b[0mnp\u001b[0m\u001b[0;34m.\u001b[0m\u001b[0mabs\u001b[0m\u001b[0;34m(\u001b[0m\u001b[0my1\u001b[0m\u001b[0;34m-\u001b[0m\u001b[0my2\u001b[0m\u001b[0;34m)\u001b[0m\u001b[0;34m]\u001b[0m\u001b[0;34m)\u001b[0m\u001b[0;34m\u001b[0m\u001b[0;34m\u001b[0m\u001b[0m\n\u001b[0m\u001b[1;32m      3\u001b[0m \u001b[0;34m\u001b[0m\u001b[0m\n\u001b[1;32m      4\u001b[0m \u001b[0;32mdef\u001b[0m \u001b[0mcalc_neighbours_coeff\u001b[0m\u001b[0;34m(\u001b[0m\u001b[0md\u001b[0m\u001b[0;34m,\u001b[0m \u001b[0msigma\u001b[0m\u001b[0;34m)\u001b[0m\u001b[0;34m:\u001b[0m\u001b[0;34m\u001b[0m\u001b[0;34m\u001b[0m\u001b[0m\n\u001b[1;32m      5\u001b[0m     \u001b[0;32mreturn\u001b[0m \u001b[0mnp\u001b[0m\u001b[0;34m.\u001b[0m\u001b[0mexp\u001b[0m\u001b[0;34m(\u001b[0m\u001b[0;34m-\u001b[0m\u001b[0md\u001b[0m\u001b[0;34m**\u001b[0m\u001b[0;36m2\u001b[0m\u001b[0;34m/\u001b[0m\u001b[0;36m2\u001b[0m\u001b[0;34m/\u001b[0m\u001b[0msigma\u001b[0m\u001b[0;34m**\u001b[0m\u001b[0;36m2\u001b[0m\u001b[0;34m)\u001b[0m\u001b[0;34m\u001b[0m\u001b[0;34m\u001b[0m\u001b[0m\n",
      "\u001b[0;32m<__array_function__ internals>\u001b[0m in \u001b[0;36mamax\u001b[0;34m(*args, **kwargs)\u001b[0m\n",
      "\u001b[0;32m/usr/local/lib/python3.6/dist-packages/numpy/core/fromnumeric.py\u001b[0m in \u001b[0;36mamax\u001b[0;34m(a, axis, out, keepdims, initial, where)\u001b[0m\n\u001b[1;32m   2704\u001b[0m     \"\"\"\n\u001b[1;32m   2705\u001b[0m     return _wrapreduction(a, np.maximum, 'max', axis, None, out,\n\u001b[0;32m-> 2706\u001b[0;31m                           keepdims=keepdims, initial=initial, where=where)\n\u001b[0m\u001b[1;32m   2707\u001b[0m \u001b[0;34m\u001b[0m\u001b[0m\n\u001b[1;32m   2708\u001b[0m \u001b[0;34m\u001b[0m\u001b[0m\n",
      "\u001b[0;32m/usr/local/lib/python3.6/dist-packages/numpy/core/fromnumeric.py\u001b[0m in \u001b[0;36m_wrapreduction\u001b[0;34m(obj, ufunc, method, axis, dtype, out, **kwargs)\u001b[0m\n\u001b[1;32m     85\u001b[0m                 \u001b[0;32mreturn\u001b[0m \u001b[0mreduction\u001b[0m\u001b[0;34m(\u001b[0m\u001b[0maxis\u001b[0m\u001b[0;34m=\u001b[0m\u001b[0maxis\u001b[0m\u001b[0;34m,\u001b[0m \u001b[0mout\u001b[0m\u001b[0;34m=\u001b[0m\u001b[0mout\u001b[0m\u001b[0;34m,\u001b[0m \u001b[0;34m**\u001b[0m\u001b[0mpasskwargs\u001b[0m\u001b[0;34m)\u001b[0m\u001b[0;34m\u001b[0m\u001b[0;34m\u001b[0m\u001b[0m\n\u001b[1;32m     86\u001b[0m \u001b[0;34m\u001b[0m\u001b[0m\n\u001b[0;32m---> 87\u001b[0;31m     \u001b[0;32mreturn\u001b[0m \u001b[0mufunc\u001b[0m\u001b[0;34m.\u001b[0m\u001b[0mreduce\u001b[0m\u001b[0;34m(\u001b[0m\u001b[0mobj\u001b[0m\u001b[0;34m,\u001b[0m \u001b[0maxis\u001b[0m\u001b[0;34m,\u001b[0m \u001b[0mdtype\u001b[0m\u001b[0;34m,\u001b[0m \u001b[0mout\u001b[0m\u001b[0;34m,\u001b[0m \u001b[0;34m**\u001b[0m\u001b[0mpasskwargs\u001b[0m\u001b[0;34m)\u001b[0m\u001b[0;34m\u001b[0m\u001b[0;34m\u001b[0m\u001b[0m\n\u001b[0m\u001b[1;32m     88\u001b[0m \u001b[0;34m\u001b[0m\u001b[0m\n\u001b[1;32m     89\u001b[0m \u001b[0;34m\u001b[0m\u001b[0m\n",
      "\u001b[0;31mKeyboardInterrupt\u001b[0m: "
     ]
    }
   ],
   "source": [
    "for step in range(epochs):\n",
    "\n",
    "    for color in colors:\n",
    "        \n",
    "        # определяем индекс нейрона-победителя\n",
    "        distances = np.array([[euclidean(weights[n1, n2, :], color) for n1 in range(dim)] for n2 in range(dim)])\n",
    "        n, m = np.unravel_index(np.argmin(distances), (dim, dim))\n",
    "           \n",
    "        # обновить веса всех нейронов, с учетом удаленности от нейрона-победителя\n",
    "        for d1 in range(dim):\n",
    "            for d2 in range(dim):\n",
    "                for chnl in range(channels):\n",
    "                    dist = calc_distance_between_neurons(n, m, d1, d2)\n",
    "                    sigma = sigma0 * np.exp(-step**2 / tau1)\n",
    "                    eta = eta0 * np.exp(-step**2 / tau2)\n",
    "                    weights[d1, d2, chnl] += eta*calc_neighbours_coeff(dist, sigma)*(color[chnl] - weights[d1, d2, chnl])\n",
    "\n",
    "    # запись в лог и сохранение текущих весов карты\n",
    "    fd = open('som_data_{}.pickle'.format(step), 'wb')\n",
    "    pickle.dump(weights, fd)\n",
    "    fd.close()\n",
    "    if verbose:\n",
    "        print(\"step: {}, eta: {}, sigma: {}\".format(step, eta, sigma))\n",
    "            "
   ]
  },
  {
   "cell_type": "code",
   "execution_count": 165,
   "metadata": {},
   "outputs": [
    {
     "data": {
      "image/png": "[encoded data removed]",
      "text/plain": [
       "<Figure size 432x288 with 1 Axes>"
      ]
     },
     "metadata": {
      "needs_background": "light"
     },
     "output_type": "display_data"
    }
   ],
   "source": [
    "xs = np.linspace(1, 200)\n",
    "plt.scatter(xs, sigma0*np.exp(-xs**2 / tau1))\n",
    "plt.show()"
   ]
  },
  {
   "cell_type": "code",
   "execution_count": 166,
   "metadata": {},
   "outputs": [
    {
     "data": {
      "image/png": "[encoded data removed]",
      "text/plain": [
       "<Figure size 432x288 with 1 Axes>"
      ]
     },
     "metadata": {
      "needs_background": "light"
     },
     "output_type": "display_data"
    }
   ],
   "source": [
    "xs = np.linspace(1, 200)\n",
    "plt.scatter(xs, eta0*np.exp(-xs**2 / tau2))\n",
    "plt.show()"
   ]
  },
  {
   "cell_type": "code",
   "execution_count": 128,
   "metadata": {},
   "outputs": [
    {
     "name": "stdout",
     "output_type": "stream",
     "text": [
      " CNN.ipynb\r\n",
      "'Domukhovsky, Sinadsky-Iterative Statistical-Entropy Method for Zero Knowledge Network Traffic Analysis Algorithm Implementation (artcl impl).ipynb'\r\n",
      " Graphics.ipynb\r\n",
      " Morfessor.ipynb\r\n",
      "'NLP Basics-Smurov(Abbyy).ipynb'\r\n",
      " som_data_0_0.pickle.old\r\n",
      " som_data_0_1000.pickle.old\r\n",
      " SOM.ipynb\r\n",
      " som.py\r\n",
      " Untitled.ipynb\r\n",
      " work_with_pcap.ipynb\r\n"
     ]
    }
   ],
   "source": [
    "#!rm ./*.pickle\n",
    "!ls"
   ]
  },
  {
   "cell_type": "code",
   "execution_count": 157,
   "metadata": {},
   "outputs": [
    {
     "ename": "FileNotFoundError",
     "evalue": "[Errno 2] No such file or directory: 'som_data_50000.pickle'",
     "output_type": "error",
     "traceback": [
      "\u001b[0;31m---------------------------------------------------------------------------\u001b[0m",
      "\u001b[0;31mFileNotFoundError\u001b[0m                         Traceback (most recent call last)",
      "\u001b[0;32m<ipython-input-157-000636264eed>\u001b[0m in \u001b[0;36m<module>\u001b[0;34m\u001b[0m\n\u001b[1;32m     15\u001b[0m \u001b[0mfd\u001b[0m\u001b[0;34m.\u001b[0m\u001b[0mclose\u001b[0m\u001b[0;34m(\u001b[0m\u001b[0;34m)\u001b[0m\u001b[0;34m\u001b[0m\u001b[0;34m\u001b[0m\u001b[0m\n\u001b[1;32m     16\u001b[0m \u001b[0;34m\u001b[0m\u001b[0m\n\u001b[0;32m---> 17\u001b[0;31m \u001b[0mfd\u001b[0m \u001b[0;34m=\u001b[0m \u001b[0mopen\u001b[0m\u001b[0;34m(\u001b[0m\u001b[0;34m'som_data_50000.pickle'\u001b[0m\u001b[0;34m,\u001b[0m \u001b[0;34m'rb'\u001b[0m\u001b[0;34m)\u001b[0m\u001b[0;34m\u001b[0m\u001b[0;34m\u001b[0m\u001b[0m\n\u001b[0m\u001b[1;32m     18\u001b[0m \u001b[0mweights_end\u001b[0m \u001b[0;34m=\u001b[0m \u001b[0mpickle\u001b[0m\u001b[0;34m.\u001b[0m\u001b[0mload\u001b[0m\u001b[0;34m(\u001b[0m\u001b[0mfd\u001b[0m\u001b[0;34m)\u001b[0m\u001b[0;34m\u001b[0m\u001b[0;34m\u001b[0m\u001b[0m\n\u001b[1;32m     19\u001b[0m \u001b[0mfd\u001b[0m\u001b[0;34m.\u001b[0m\u001b[0mclose\u001b[0m\u001b[0;34m(\u001b[0m\u001b[0;34m)\u001b[0m\u001b[0;34m\u001b[0m\u001b[0;34m\u001b[0m\u001b[0m\n",
      "\u001b[0;31mFileNotFoundError\u001b[0m: [Errno 2] No such file or directory: 'som_data_50000.pickle'"
     ]
    }
   ],
   "source": [
    "fd = open('som_data_1.pickle', 'rb')\n",
    "weights_start = pickle.load(fd)\n",
    "fd.close()\n",
    "\n",
    "fd = open('som_data_80.pickle', 'rb')\n",
    "weights_mid1 = pickle.load(fd)\n",
    "fd.close()\n",
    "\n",
    "fd = open('som_data_90.pickle', 'rb')\n",
    "weights_mid2 = pickle.load(fd)\n",
    "fd.close()\n",
    "\n",
    "fd = open('som_data_100.pickle', 'rb')\n",
    "weights_mid3 = pickle.load(fd)\n",
    "fd.close()\n",
    "\n",
    "fd = open('som_data_50000.pickle', 'rb')\n",
    "weights_end = pickle.load(fd)\n",
    "fd.close()"
   ]
  },
  {
   "cell_type": "code",
   "execution_count": 155,
   "metadata": {},
   "outputs": [
    {
     "data": {
      "image/png": "[encoded data removed]",
      "text/plain": [
       "<Figure size 1440x648 with 5 Axes>"
      ]
     },
     "metadata": {
      "needs_background": "light"
     },
     "output_type": "display_data"
    }
   ],
   "source": [
    "plt.figure(figsize=(20,9))\n",
    "plt.subplot(151)\n",
    "plt.imshow(weights_start)\n",
    "\n",
    "plt.subplot(152)\n",
    "plt.imshow(weights_mid1)\n",
    "\n",
    "plt.subplot(153)\n",
    "plt.imshow(weights_mid2)\n",
    "\n",
    "plt.subplot(154)\n",
    "plt.imshow(weights_mid3)\n",
    "\n",
    "plt.subplot(155)\n",
    "plt.imshow(weights_end)\n",
    "\n",
    "plt.show()"
   ]
  },
  {
   "cell_type": "markdown",
   "metadata": {},
   "source": [
    "# Создание анимации"
   ]
  },
  {
   "cell_type": "code",
   "execution_count": null,
   "metadata": {},
   "outputs": [],
   "source": [
    "imageList = [] \n",
    "for i in range(1, 5000): \n",
    "    fd = open('som_data_{}.pickle'.format(i), 'rb')\n",
    "    w = pickle.load(fd)\n",
    "    fd.close()        \n",
    "    imageList.append(w)\n",
    "    \n",
    "def getImageFromList(x): \n",
    "    return (imageList[x])\n",
    " \n",
    "fig = plt.figure (figsize = (10, 10)) \n",
    "ims = [] \n",
    "for i in range(len(imageList)): \n",
    "    im = plt.imshow(getImageFromList(i), animated=True) \n",
    "    ims.append ([im]) \n",
    "    \n",
    "ani = ArtistAnimation(fig, ims , interval = 59, blit = True, repeat_delay = 1000) \n",
    "plt.close() "
   ]
  },
  {
   "cell_type": "code",
   "execution_count": null,
   "metadata": {},
   "outputs": [],
   "source": [
    "ani.save('data.gif')"
   ]
  },
  {
   "cell_type": "markdown",
   "metadata": {},
   "source": [
    "# Кластерный анализ датасета load_digits() <a name='digits'></a>"
   ]
  },
  {
   "cell_type": "code",
   "execution_count": null,
   "metadata": {},
   "outputs": [],
   "source": []
  },
  {
   "cell_type": "code",
   "execution_count": null,
   "metadata": {},
   "outputs": [],
   "source": []
  },
  {
   "cell_type": "markdown",
   "metadata": {},
   "source": [
    "# Полезные ссылки <a name='links'></a>"
   ]
  },
  {
   "cell_type": "markdown",
   "metadata": {},
   "source": [
    "- Оригинальная статья Кохоннена (1990 год) https://sci2s.ugr.es/keel/pdf/algorithm/articulo/1990-Kohonen-PIEEE.pdf\n",
    "- Описание создания сети Кохоннена в Tensorflow https://habr.com/ru/post/334810/\n",
    "- Самоорганизующаяся карта (статья wikipedia) https://ru.wikipedia.org/wiki/%D0%A1%D0%B0%D0%BC%D0%BE%D0%BE%D1%80%D0%B3%D0%B0%D0%BD%D0%B8%D0%B7%D1%83%D1%8E%D1%89%D0%B0%D1%8F%D1%81%D1%8F_%D0%BA%D0%B0%D1%80%D1%82%D0%B0_%D0%9A%D0%BE%D1%85%D0%BE%D0%BD%D0%B5%D0%BD%D0%B0"
   ]
  },
  {
   "cell_type": "markdown",
   "metadata": {},
   "source": []
  },
  {
   "cell_type": "code",
   "execution_count": null,
   "metadata": {},
   "outputs": [],
   "source": []
  }
 ],
 "metadata": {
  "kernelspec": {
   "display_name": "Python 3",
   "language": "python",
   "name": "python3"
  },
  "language_info": {
   "codemirror_mode": {
    "name": "ipython",
    "version": 3
   },
   "file_extension": ".py",
   "mimetype": "text/x-python",
   "name": "python",
   "nbconvert_exporter": "python",
   "pygments_lexer": "ipython3",
   "version": "3.6.9"
  }
 },
 "nbformat": 4,
 "nbformat_minor": 4
}
