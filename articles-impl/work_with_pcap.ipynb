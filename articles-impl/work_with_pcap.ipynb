{
 "cells": [
  {
   "cell_type": "code",
   "execution_count": 6,
   "metadata": {},
   "outputs": [],
   "source": [
    "#!/usr/local/bin/python2.7 \n",
    "import dpkt \n",
    "counter = 0 \n",
    "ipcounter = 0 \n",
    "tcpcounter = 0 \n",
    "udpcounter = 0 \n",
    "filename = '/home/yuchernyshov/datasets/big.pcap' "
   ]
  },
  {
   "cell_type": "code",
   "execution_count": 7,
   "metadata": {},
   "outputs": [],
   "source": [
    "from matplotlib import pyplot as plt"
   ]
  },
  {
   "cell_type": "code",
   "execution_count": 8,
   "metadata": {},
   "outputs": [],
   "source": [
    "fd = open(filename, 'rb')"
   ]
  },
  {
   "cell_type": "markdown",
   "metadata": {},
   "source": [
    "Получить статистику по трейсу"
   ]
  },
  {
   "cell_type": "code",
   "execution_count": 9,
   "metadata": {},
   "outputs": [],
   "source": [
    "for ts, pkt in dpkt.pcap.Reader(fd): \n",
    "    counter += 1    \n",
    "            \n",
    "    eth = dpkt.ethernet.Ethernet(pkt) \n",
    "    \n",
    "    if eth.type != dpkt.ethernet.ETH_TYPE_IP: \n",
    "        continue \n",
    "    \n",
    "    ipcounter+=1 \n",
    "    ip = eth.data \n",
    "    \n",
    "    if ip.p == dpkt.ip.IP_PROTO_TCP: \n",
    "        tcpcounter += 1 \n",
    "        \n",
    "    if ip.p == dpkt.ip.IP_PROTO_UDP: \n",
    "        udpcounter += 1         "
   ]
  },
  {
   "cell_type": "code",
   "execution_count": 10,
   "metadata": {},
   "outputs": [
    {
     "name": "stdout",
     "output_type": "stream",
     "text": [
      "Total number of packets in the pcap file:  4813568\n",
      "Total number of ip packets:  33\n",
      "Total number of tcp packets:  0\n",
      "Total number of udp packets:  0\n"
     ]
    }
   ],
   "source": [
    "print(\"Total number of packets in the pcap file: \", counter)\n",
    "print(\"Total number of ip packets: \", ipcounter)    \n",
    "print(\"Total number of tcp packets: \", tcpcounter)    \n",
    "print(\"Total number of udp packets: \", udpcounter)"
   ]
  },
  {
   "cell_type": "code",
   "execution_count": null,
   "metadata": {},
   "outputs": [],
   "source": [
    "tcp = ip.data\n",
    "\n",
    "if tcp.dport==80 and len(tcp.data)>0:\n",
    "    try:\n",
    "        http = dpkt.http.Request(tcp.data)\n",
    "        print(http.uri)\n",
    "    except:\n",
    "        print('issue')"
   ]
  },
  {
   "cell_type": "code",
   "execution_count": 21,
   "metadata": {},
   "outputs": [],
   "source": [
    "fd.close()"
   ]
  },
  {
   "cell_type": "code",
   "execution_count": 32,
   "metadata": {},
   "outputs": [],
   "source": [
    "fd = open(filename, 'rb')"
   ]
  },
  {
   "cell_type": "code",
   "execution_count": 33,
   "metadata": {},
   "outputs": [
    {
     "name": "stdout",
     "output_type": "stream",
     "text": [
      "1596535416.768995\n",
      "b'\\xd0\\r\\x10\\xf0H\\xa2\\x00\\x00^\\x00\\x01\\x00\\x08\\x00E`\\x00(\\xbd\\xd8@\\x00x\\x06\\x92\\x80O\\x87W\\xfc\\n\\x80\\x00\\x14\\x9d\\xc4\\x00\\x164\\xbe\\xcd\\xfcr\\x16\\x1d\\x8bP\\x10\\x01\\xfb\\xcb\\x8b\\x00\\x00]\\x8f'\n"
     ]
    }
   ],
   "source": [
    "for ts, pkt in dpkt.pcap.Reader(fd):\n",
    "    print(ts)\n",
    "    print(pkt)\n",
    "    break"
   ]
  },
  {
   "cell_type": "code",
   "execution_count": 34,
   "metadata": {},
   "outputs": [],
   "source": [
    "fd.close()"
   ]
  },
  {
   "cell_type": "code",
   "execution_count": 35,
   "metadata": {},
   "outputs": [],
   "source": [
    "import datetime"
   ]
  },
  {
   "cell_type": "code",
   "execution_count": 36,
   "metadata": {},
   "outputs": [],
   "source": [
    "t = datetime.datetime.fromtimestamp(ts)"
   ]
  },
  {
   "cell_type": "code",
   "execution_count": 37,
   "metadata": {},
   "outputs": [
    {
     "name": "stdout",
     "output_type": "stream",
     "text": [
      "2020-08-04 10:03:36\n"
     ]
    }
   ],
   "source": [
    "print(t.strftime('%Y-%m-%d %H:%M:%S'))"
   ]
  },
  {
   "cell_type": "code",
   "execution_count": 38,
   "metadata": {},
   "outputs": [
    {
     "name": "stdout",
     "output_type": "stream",
     "text": [
      "b'\\xd0\\r\\x10\\xf0H\\xa2\\x00\\x00^\\x00\\x01\\x00\\x08\\x00E`\\x00(\\xbd\\xd8@\\x00x\\x06\\x92\\x80O\\x87W\\xfc\\n\\x80\\x00\\x14\\x9d\\xc4\\x00\\x164\\xbe\\xcd\\xfcr\\x16\\x1d\\x8bP\\x10\\x01\\xfb\\xcb\\x8b\\x00\\x00]\\x8f'\n"
     ]
    }
   ],
   "source": [
    "print(pkt)"
   ]
  },
  {
   "cell_type": "code",
   "execution_count": 39,
   "metadata": {},
   "outputs": [],
   "source": [
    "def intelligent_data_printer(buffer):\n",
    "    for i in range(len(buffer)//16 + 1):\n",
    "        if (i+1)*16 < len(buffer):\n",
    "            print(\" \".join([\"{:<4}\".format(hex(l)) for l in buffer[i*16:(i+1)*16]]))\n",
    "        else:\n",
    "            print(\" \".join([\"{:<4}\".format(hex(l)) for l in buffer[i*16:]]))\n"
   ]
  },
  {
   "cell_type": "code",
   "execution_count": 40,
   "metadata": {},
   "outputs": [
    {
     "name": "stdout",
     "output_type": "stream",
     "text": [
      "0xd0 0xd  0x10 0xf0 0x48 0xa2 0x0  0x0  0x5e 0x0  0x1  0x0  0x8  0x0  0x45 0x60\n",
      "0x0  0x28 0xbd 0xd8 0x40 0x0  0x78 0x6  0x92 0x80 0x4f 0x87 0x57 0xfc 0xa  0x80\n",
      "0x0  0x14 0x9d 0xc4 0x0  0x16 0x34 0xbe 0xcd 0xfc 0x72 0x16 0x1d 0x8b 0x50 0x10\n",
      "0x1  0xfb 0xcb 0x8b 0x0  0x0  0x5d 0x8f\n"
     ]
    }
   ],
   "source": [
    "intelligent_data_printer(pkt)"
   ]
  },
  {
   "cell_type": "markdown",
   "metadata": {},
   "source": [
    "#### Декодировщик отдельного пакета"
   ]
  },
  {
   "cell_type": "code",
   "execution_count": null,
   "metadata": {},
   "outputs": [],
   "source": [
    "eth = dpkt.ethernet.Ethernet(p)\n",
    "hex(eth.type), hex(eth.cfi), hex(eth.priority), hex(eth.vlanid)\n",
    "eth.dst, eth.src, eth.ip, eth.pack, eth.vlan_tags\n",
    "eth.data"
   ]
  }
 ],
 "metadata": {
  "kernelspec": {
   "display_name": "Python 3",
   "language": "python",
   "name": "python3"
  },
  "language_info": {
   "codemirror_mode": {
    "name": "ipython",
    "version": 3
   },
   "file_extension": ".py",
   "mimetype": "text/x-python",
   "name": "python",
   "nbconvert_exporter": "python",
   "pygments_lexer": "ipython3",
   "version": "3.6.9"
  }
 },
 "nbformat": 4,
 "nbformat_minor": 4
}
