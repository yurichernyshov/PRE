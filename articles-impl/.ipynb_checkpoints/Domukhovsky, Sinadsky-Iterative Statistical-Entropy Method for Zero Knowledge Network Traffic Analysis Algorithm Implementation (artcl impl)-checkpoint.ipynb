{
 "cells": [
  {
   "cell_type": "code",
   "execution_count": 1,
   "metadata": {},
   "outputs": [],
   "source": [
    "import dpkt\n",
    "import numpy as np\n",
    "import matplotlib.pyplot as plt\n",
    "from collections import Counter, defaultdict\n",
    "import datetime\n",
    "import copy"
   ]
  },
  {
   "cell_type": "markdown",
   "metadata": {},
   "source": [
    "Н.А. Домуховский, А.Н. Синадский\n",
    "ИТЕРАТИВНЫЙ СТАТИСТИКО-ЭНТРОПИЙНЫЙ МЕТОД И АЛГОРИТМ АНАЛИЗА СЕТЕВОГО ТРАФИКА ПРИ ОТСУТСТВИИ АПРИОРНЫХ СВЕДЕНИЙ О ЕГО СТРУКТУРЕ \n",
    "Iterative Statistical-Entropy Method for Zero Knowledge Network Traffic Analysis Algorithm Implementation"
   ]
  },
  {
   "cell_type": "markdown",
   "metadata": {},
   "source": [
    "# Оглавление <a name='toc'></a>\n",
    "\n",
    "<ul>\n",
    "    <li><a href='#article'>Выходные данные статьи</a></li>       \n",
    "    <li><a href='#algorythm'>Алгоритм решения, использованного в статье</a></li>        \n",
    "    <li><a href='#implementation'>Имплементация</a></li>        \n",
    "    <li><a href='#ideas'>Идеи по применению и дальнейшему развитию</a></li>\n",
    "</ul>"
   ]
  },
  {
   "cell_type": "markdown",
   "metadata": {},
   "source": [
    "# Выходные данные статьи <a name='article'></a>"
   ]
  },
  {
   "cell_type": "markdown",
   "metadata": {},
   "source": [
    "Н.А. Домуховский, А.Н. Синадский\n",
    "\n",
    "ИТЕРАТИВНЫЙ СТАТИСТИКО-ЭНТРОПИЙНЫЙ МЕТОД И АЛГОРИТМ АНАЛИЗА СЕТЕВОГО ТРАФИКА ПРИ ОТСУТСТВИИ АПРИОРНЫХ СВЕДЕНИЙ О ЕГО СТРУКТУРЕ \n",
    "\n",
    "Iterative Statistical-Entropy Method for Zero Knowledge Network Traffic Analysis Algorithm Implementation"
   ]
  },
  {
   "cell_type": "markdown",
   "metadata": {},
   "source": [
    "# Алгоритм решения, использованного в статье <a name='algorythm'></a>"
   ]
  },
  {
   "cell_type": "markdown",
   "metadata": {},
   "source": [
    "Статистический метод – определение адресной части.\n",
    "\n",
    "Энтропийный метод – определение границ полей. \n",
    "\n",
    "Разбор вложенных протоколов."
   ]
  },
  {
   "cell_type": "markdown",
   "metadata": {},
   "source": [
    "# Имплементация <a name='implementation'></a>"
   ]
  },
  {
   "cell_type": "markdown",
   "metadata": {},
   "source": [
    "#### Вспомогательные функции"
   ]
  },
  {
   "cell_type": "code",
   "execution_count": 2,
   "metadata": {},
   "outputs": [],
   "source": [
    "def f_fine_ts_print(buffer):\n",
    "    t = datetime.datetime.fromtimestamp(buffer)\n",
    "    print(t.strftime('%Y-%h-%d %H:%M:%S'))\n",
    "    pass\n",
    "\n",
    "def f_fine_pckt_print(buffer, columns=16):\n",
    "    for i in range(len(buffer)//columns + 1):\n",
    "        if (i+1)*columns < len(buffer):\n",
    "            print(\" \".join([\"{:0=2x}\".format(l) for l in buffer[i*columns:(i+1)*columns]]))\n",
    "        else:\n",
    "            print(\" \".join([\"{:0=2x}\".format(l) for l in buffer[i*columns:]]))\n",
    "    pass\n"
   ]
  },
  {
   "cell_type": "markdown",
   "metadata": {},
   "source": [
    "#### Чтение датасета"
   ]
  },
  {
   "cell_type": "code",
   "execution_count": 3,
   "metadata": {},
   "outputs": [],
   "source": [
    "def f_read_pcap(filename):\n",
    "    fd = open(filename, 'rb')\n",
    "    data = defaultdict(dict)\n",
    "    for i, (ts, pckt) in enumerate(dpkt.pcap.Reader(fd)):\n",
    "        data[i] = {'ts': ts, 'pckt': pckt}\n",
    "    fd.close()\n",
    "    return data"
   ]
  },
  {
   "cell_type": "code",
   "execution_count": 4,
   "metadata": {},
   "outputs": [],
   "source": [
    "filename = '/home/yuchernyshov/datasets/test.pcap'\n",
    "data = f_read_pcap(filename)"
   ]
  },
  {
   "cell_type": "code",
   "execution_count": 5,
   "metadata": {},
   "outputs": [
    {
     "data": {
      "text/plain": [
       "(5, 5, 5)"
      ]
     },
     "execution_count": 5,
     "metadata": {},
     "output_type": "execute_result"
    }
   ],
   "source": [
    "len(data), len(data.keys()), len(data.values())"
   ]
  },
  {
   "cell_type": "code",
   "execution_count": 6,
   "metadata": {},
   "outputs": [
    {
     "name": "stdout",
     "output_type": "stream",
     "text": [
      "2020-Aug-04 10:03:36\n",
      "\n",
      "d0 0d 10 f0 48 a2 00 00 5e 00 01 00 08 00 45 60\n",
      "00 28 bd d8 40 00 78 06 92 80 4f 87 57 fc 0a 80\n",
      "00 14 9d c4 00 16 34 be cd fc 72 16 1d 8b 50 10\n",
      "01 fb cb 8b 00 00 5d 8f\n"
     ]
    }
   ],
   "source": [
    "f_fine_ts_print(data[0]['ts'])\n",
    "print()\n",
    "f_fine_pckt_print(data[0]['pckt'])"
   ]
  },
  {
   "cell_type": "markdown",
   "metadata": {},
   "source": [
    "#### Получение различной статистической информации о пакетах"
   ]
  },
  {
   "cell_type": "markdown",
   "metadata": {},
   "source": [
    "Статистика длины пакетов"
   ]
  },
  {
   "cell_type": "code",
   "execution_count": 7,
   "metadata": {},
   "outputs": [
    {
     "name": "stdout",
     "output_type": "stream",
     "text": [
      "Counter({56: 2, 58: 2, 118: 1})\n"
     ]
    }
   ],
   "source": [
    "counter_pckt_len = Counter()\n",
    "for _, elem in data.items():\n",
    "    counter_pckt_len[len(elem['pckt'])] += 1\n",
    "print(counter_pckt_len)"
   ]
  },
  {
   "cell_type": "code",
   "execution_count": 8,
   "metadata": {},
   "outputs": [
    {
     "data": {
      "image/png": "[encoded data removed]",
      "text/plain": [
       "<matplotlib.figure.Figure at 0x7ff54f9786d8>"
      ]
     },
     "metadata": {
      "needs_background": "light"
     },
     "output_type": "display_data"
    }
   ],
   "source": [
    "plt.bar(counter_pckt_len.keys(), counter_pckt_len.values())\n",
    "plt.grid(True)\n",
    "plt.show()"
   ]
  },
  {
   "cell_type": "code",
   "execution_count": 9,
   "metadata": {},
   "outputs": [
    {
     "data": {
      "text/plain": [
       "[0, 4, 1, 2, 3]"
      ]
     },
     "execution_count": 9,
     "metadata": {},
     "output_type": "execute_result"
    }
   ],
   "source": [
    "sorted(data, key=lambda x: len(data[x]['pckt']), reverse=False)"
   ]
  },
  {
   "cell_type": "code",
   "execution_count": 10,
   "metadata": {},
   "outputs": [
    {
     "name": "stdout",
     "output_type": "stream",
     "text": [
      "56\n"
     ]
    }
   ],
   "source": [
    "min_packet_length = min([len(i['pckt']) for i in data.values()])\n",
    "print(min_packet_length)"
   ]
  },
  {
   "cell_type": "code",
   "execution_count": 11,
   "metadata": {},
   "outputs": [
    {
     "data": {
      "text/plain": [
       "56"
      ]
     },
     "execution_count": 11,
     "metadata": {},
     "output_type": "execute_result"
    }
   ],
   "source": [
    "def f_get_min_packet_length(packets):\n",
    "    return min([len(i['pckt']) for i in packets.values()])\n",
    "f_get_min_packet_length(data)"
   ]
  },
  {
   "cell_type": "code",
   "execution_count": 12,
   "metadata": {},
   "outputs": [
    {
     "name": "stdout",
     "output_type": "stream",
     "text": [
      "0 {'ts': 1596535416.768995, 'pckt': b'\\xd0\\r\\x10\\xf0H\\xa2\\x00\\x00^\\x00\\x01\\x00\\x08\\x00E`\\x00(\\xbd\\xd8@\\x00x\\x06\\x92\\x80O\\x87W\\xfc\\n\\x80\\x00\\x14\\x9d\\xc4\\x00\\x164\\xbe\\xcd\\xfcr\\x16\\x1d\\x8bP\\x10\\x01\\xfb\\xcb\\x8b\\x00\\x00]\\x8f'} \n",
      "\n",
      "4 {'ts': 1596535417.550184, 'pckt': b'\\xd0\\r\\x10\\xf0H\\xa2\\x00\\x00^\\x00\\x01\\x00\\x08\\x00E`\\x00(\\xbd\\xd9@\\x00x\\x06\\x92\\x7fO\\x87W\\xfc\\n\\x80\\x00\\x14\\x9d\\xc4\\x00\\x164\\xbe\\xcd\\xfcr\\x16\\x1d\\xcbP\\x10\\x02\\x01\\xcbE\\x00\\x00\\x0fY'} \n",
      "\n"
     ]
    }
   ],
   "source": [
    "for elem in filter(lambda x: 1 if len(data[x]['pckt'])==min_packet_length else 0, data):\n",
    "    print(elem, data[elem], '\\n')"
   ]
  },
  {
   "cell_type": "code",
   "execution_count": 13,
   "metadata": {},
   "outputs": [
    {
     "name": "stdout",
     "output_type": "stream",
     "text": [
      "118\n"
     ]
    }
   ],
   "source": [
    "max_packet_length = max([len(v['pckt']) for v in data.values()])\n",
    "print(max_packet_length)"
   ]
  },
  {
   "cell_type": "code",
   "execution_count": 14,
   "metadata": {},
   "outputs": [
    {
     "data": {
      "text/plain": [
       "118"
      ]
     },
     "execution_count": 14,
     "metadata": {},
     "output_type": "execute_result"
    }
   ],
   "source": [
    "def f_get_max_packet_value(packets):\n",
    "    return max([len(i['pckt']) for i in packets.values()])\n",
    "f_get_max_packet_value(data)"
   ]
  },
  {
   "cell_type": "code",
   "execution_count": 15,
   "metadata": {},
   "outputs": [
    {
     "name": "stdout",
     "output_type": "stream",
     "text": [
      "3 {'ts': 1596535417.4784, 'pckt': b'\\x00\\x00^\\x00\\x01\\x00\\xd0\\r\\x10\\xf0H\\xa2\\x08\\x00E\\x10\\x00hg\\xe5@\\x00@\\x06 \\x84\\n\\x80\\x00\\x14O\\x87W\\xfc\\x00\\x16\\x9d\\xc4r\\x16\\x1d\\x8b4\\xbe\\xcd\\xfcP\\x18\\x01\\xa0\\xb2q\\x00\\x00\\xd2+\\x0bT\\x9a=\\x04\\x94\\xec\\xd2\\xa50\\x0eA\\x8d\\x9a\\x95\\x02\\xec\\x9cMeoul5\\x9dMO\\xa1\\xecd\\xa0\\x83P\\x91V\\x82\\xa3\\x8f\\x97\\xbdf\\x12r5\\x0e\\xdf\\xd0\\xf4\\xa2\\xdd\\xbb\\xee\\xc3|SMi~\\xcb\\xf8\\xa0\\x82'}\n"
     ]
    }
   ],
   "source": [
    "for elem in filter(lambda x: 1 if len(data[x]['pckt'])==max_packet_length else 0, data):\n",
    "    print(elem, data[elem])"
   ]
  },
  {
   "cell_type": "markdown",
   "metadata": {},
   "source": [
    "Статистика значений в n-м байте пакетов"
   ]
  },
  {
   "cell_type": "code",
   "execution_count": 16,
   "metadata": {},
   "outputs": [
    {
     "name": "stdout",
     "output_type": "stream",
     "text": [
      "Counter({'0xcd': 2, '0x9': 1, '0xa': 1, '0x1d': 1})\n"
     ]
    }
   ],
   "source": [
    "def f_get_counter_values_on_position(packets, position, verbose=0):\n",
    "    c = Counter()\n",
    "    for i in range(len(packets)):\n",
    "        if verbose>0: \n",
    "            fine_pckt_print(packets[i]['pckt']); print()\n",
    "        c[hex(packets[i]['pckt'][position])] += 1\n",
    "    return c\n",
    "        \n",
    "pos = 40\n",
    "print(f_get_counter_values_on_position(data, pos, verbose=0))"
   ]
  },
  {
   "cell_type": "markdown",
   "metadata": {},
   "source": [
    "Энтропия значений в конкретном байте\n",
    "$$\n",
    "\\Large\n",
    "E = - \\sum\\limits_{i \\in [0,255]}{p_i \\log p_i}\n",
    "$$\n",
    "\n",
    "$p_i$ - частота появления конкретного $i$-го значения в конкретном байте, $i \\in [0,255]$."
   ]
  },
  {
   "cell_type": "code",
   "execution_count": 17,
   "metadata": {},
   "outputs": [],
   "source": [
    "def f_get_entrophy_on_position(packets, position, verbose=0):\n",
    "    E = 0\n",
    "    c = f_get_counter_values_on_position(packets, position, verbose=verbose-1)\n",
    "    for i in range(256):\n",
    "        if hex(i) in c.keys():\n",
    "            p = c[hex(i)] / len(packets)\n",
    "            E += -p * np.log(p)\n",
    "            if verbose>0:\n",
    "                print(\"value={}, frequency={}/{}, p={}, log(p)={}, E={}\\n\".format(hex(i),\n",
    "                                                                                  c[hex(i)], \n",
    "                                                                                  len(packets),\n",
    "                                                                                  p,\n",
    "                                                                                  np.log(p),\n",
    "                                                                                  E))\n",
    "    return(E)    "
   ]
  },
  {
   "cell_type": "code",
   "execution_count": 18,
   "metadata": {},
   "outputs": [
    {
     "data": {
      "text/plain": [
       "0.6730116670092565"
      ]
     },
     "execution_count": 18,
     "metadata": {},
     "output_type": "execute_result"
    }
   ],
   "source": [
    "f_get_entrophy_on_position(data, 1, verbose=0)"
   ]
  },
  {
   "cell_type": "markdown",
   "metadata": {},
   "source": [
    "Позиции с самой высокой элементной энтропией"
   ]
  },
  {
   "cell_type": "code",
   "execution_count": 19,
   "metadata": {},
   "outputs": [
    {
     "name": "stdout",
     "output_type": "stream",
     "text": [
      "[0.6730116670092565, 0.6730116670092565, 0.6730116670092565, 0.6730116670092565, 0.6730116670092565, 0.6730116670092565, 0.6730116670092565, 0.6730116670092565, 0.6730116670092565, 0.6730116670092565, 0.6730116670092565, 0.6730116670092565, 0.0, 0.0, 0.0, 1.0549201679861442, 0.0, 1.0549201679861442, 1.0549201679861442, 1.3321790402101223, 0.0, 0.0, 0.6730116670092565, 0.0, 1.0549201679861442, 1.3321790402101223, 0.6730116670092565, 0.6730116670092565, 0.6730116670092565, 0.6730116670092565, 1.0549201679861442, 1.0549201679861442, 1.0549201679861442, 1.0549201679861442, 0.6730116670092565, 1.0549201679861442, 1.3321790402101223, 1.3321790402101223, 1.3321790402101223, 1.3321790402101223, 1.3321790402101223, 1.3321790402101223, 1.3321790402101223, 1.3321790402101223, 1.3321790402101223, 1.6094379124341005, 0.6730116670092565, 1.0549201679861442, 1.0549201679861442, 1.3321790402101223, 1.0549201679861442, 1.3321790402101223, 0.0, 0.0, 1.3321790402101223, 1.3321790402101223]\n"
     ]
    }
   ],
   "source": [
    "m = [f_get_entrophy_on_position(data, i) for i in range(f_get_min_packet_length(data))]\n",
    "print(m)"
   ]
  },
  {
   "cell_type": "code",
   "execution_count": 20,
   "metadata": {},
   "outputs": [
    {
     "data": {
      "text/plain": [
       "(1.6094379124341005, 0.0, 0.8399712000820632, 0.20821683707154928)"
      ]
     },
     "execution_count": 20,
     "metadata": {},
     "output_type": "execute_result"
    }
   ],
   "source": [
    "np.max(m), np.min(m), np.mean(m), np.var(m)"
   ]
  },
  {
   "cell_type": "code",
   "execution_count": 21,
   "metadata": {},
   "outputs": [
    {
     "data": {
      "image/png": "[encoded data removed]",
      "text/plain": [
       "<matplotlib.figure.Figure at 0x7ff54d8747b8>"
      ]
     },
     "metadata": {
      "needs_background": "light"
     },
     "output_type": "display_data"
    }
   ],
   "source": [
    "plt.figure(figsize=(20,5))\n",
    "plt.xticks(range(len(m)))\n",
    "plt.scatter(range(len(m)), m)\n",
    "plt.grid()\n",
    "plt.show()"
   ]
  },
  {
   "cell_type": "markdown",
   "metadata": {},
   "source": [
    "#### Применение методов к \"боевому\" датасету"
   ]
  },
  {
   "cell_type": "code",
   "execution_count": 22,
   "metadata": {},
   "outputs": [
    {
     "name": "stdout",
     "output_type": "stream",
     "text": [
      "19.6 s ± 235 ms per loop (mean ± std. dev. of 7 runs, 1 loop each)\n"
     ]
    }
   ],
   "source": [
    "%%timeit\n",
    "\n",
    "data = defaultdict(dict)\n",
    "fd_work = open('/home/yuchernyshov/datasets/big.pcap', 'rb')\n",
    "for i, (ts, pckt) in enumerate(dpkt.pcap.Reader(fd_work)):\n",
    "    data[i] = {'ts': ts, 'pckt': pckt}\n",
    "fd_work.close()    "
   ]
  },
  {
   "cell_type": "code",
   "execution_count": 23,
   "metadata": {},
   "outputs": [
    {
     "data": {
      "text/plain": [
       "5"
      ]
     },
     "execution_count": 23,
     "metadata": {},
     "output_type": "execute_result"
    }
   ],
   "source": [
    "len(data)"
   ]
  },
  {
   "cell_type": "code",
   "execution_count": 24,
   "metadata": {},
   "outputs": [
    {
     "name": "stdout",
     "output_type": "stream",
     "text": [
      "121 ns ± 1.2 ns per loop (mean ± std. dev. of 7 runs, 10000000 loops each)\n"
     ]
    }
   ],
   "source": [
    "%timeit len(data.values())"
   ]
  },
  {
   "cell_type": "code",
   "execution_count": 25,
   "metadata": {},
   "outputs": [],
   "source": [
    "for i in range(len(data)):\n",
    "    try:\n",
    "        a = len(data[i]['pckt'])\n",
    "    except:\n",
    "        print(i, data[i])\n",
    "        break                                "
   ]
  },
  {
   "cell_type": "code",
   "execution_count": 26,
   "metadata": {},
   "outputs": [
    {
     "data": {
      "text/plain": [
       "56"
      ]
     },
     "execution_count": 26,
     "metadata": {},
     "output_type": "execute_result"
    }
   ],
   "source": [
    "f_get_min_packet_length(data)"
   ]
  },
  {
   "cell_type": "code",
   "execution_count": 27,
   "metadata": {},
   "outputs": [],
   "source": [
    "m = [f_get_entrophy_on_position(data, i) for i in range(f_get_min_packet_length(data))]"
   ]
  },
  {
   "cell_type": "code",
   "execution_count": 28,
   "metadata": {},
   "outputs": [
    {
     "data": {
      "image/png": "[encoded data removed]",
      "text/plain": [
       "<matplotlib.figure.Figure at 0x7ff54d801d68>"
      ]
     },
     "metadata": {
      "needs_background": "light"
     },
     "output_type": "display_data"
    }
   ],
   "source": [
    "plt.figure(figsize=(20,10))\n",
    "plt.xticks(range(len(m)))\n",
    "plt.scatter(range(len(m)), m)\n",
    "plt.grid(True)\n",
    "plt.show()"
   ]
  },
  {
   "cell_type": "markdown",
   "metadata": {},
   "source": [
    "Позиции с низкой энтропией - претенденты на позиции стандартных полей протокола.\n",
    "\n",
    "Добавить: подписывать самый встречающийся символ, для остальных показывать статистику."
   ]
  },
  {
   "cell_type": "code",
   "execution_count": 30,
   "metadata": {},
   "outputs": [
    {
     "name": "stdout",
     "output_type": "stream",
     "text": [
      "d0 0d 10 f0 48 a2 00 00 5e 00 01 00 08 00 45 60\n",
      "00 28 bd d8 40 00 78 06 92 80 4f 87 57 fc 0a 80\n",
      "00 14 9d c4 00 16 34 be cd fc 72 16 1d 8b 50 10\n",
      "01 fb cb 8b 00 00 5d 8f\n"
     ]
    }
   ],
   "source": [
    "p = data[0]['pckt']\n",
    "f_fine_pckt_print(p)"
   ]
  },
  {
   "cell_type": "code",
   "execution_count": 31,
   "metadata": {},
   "outputs": [],
   "source": [
    "eth = dpkt.ethernet.Ethernet(p)"
   ]
  },
  {
   "cell_type": "code",
   "execution_count": 33,
   "metadata": {},
   "outputs": [
    {
     "data": {
      "text/plain": [
       "'0x800'"
      ]
     },
     "execution_count": 33,
     "metadata": {},
     "output_type": "execute_result"
    }
   ],
   "source": [
    "hex(eth.type)"
   ]
  },
  {
   "cell_type": "code",
   "execution_count": 35,
   "metadata": {},
   "outputs": [
    {
     "data": {
      "text/plain": [
       "(b'\\xd0\\r\\x10\\xf0H\\xa2',\n",
       " b'\\x00\\x00^\\x00\\x01\\x00',\n",
       " IP(tos=96, len=40, id=48600, off=16384, ttl=120, p=6, sum=37504, src=b'O\\x87W\\xfc', dst=b'\\n\\x80\\x00\\x14', opts=b'', data=TCP(sport=40388, dport=22, seq=884919804, ack=1914051979, flags=16, win=507, sum=52107, opts=b'')),\n",
       " <bound method Packet.pack of Ethernet(dst=b'\\xd0\\r\\x10\\xf0H\\xa2', src=b'\\x00\\x00^\\x00\\x01\\x00', data=IP(tos=96, len=40, id=48600, off=16384, ttl=120, p=6, sum=37504, src=b'O\\x87W\\xfc', dst=b'\\n\\x80\\x00\\x14', opts=b'', data=TCP(sport=40388, dport=22, seq=884919804, ack=1914051979, flags=16, win=507, sum=52107, opts=b'')))>)"
      ]
     },
     "execution_count": 35,
     "metadata": {},
     "output_type": "execute_result"
    }
   ],
   "source": [
    "eth.dst, eth.src, eth.ip, eth.pack"
   ]
  },
  {
   "cell_type": "markdown",
   "metadata": {},
   "source": [
    "<a href='#toc'>Назад к Оглавлению</a>"
   ]
  },
  {
   "cell_type": "markdown",
   "metadata": {},
   "source": [
    "# Идеи по применению и дальнейшему развитию <a name='ideas'></a>"
   ]
  },
  {
   "cell_type": "code",
   "execution_count": null,
   "metadata": {},
   "outputs": [],
   "source": []
  },
  {
   "cell_type": "code",
   "execution_count": null,
   "metadata": {},
   "outputs": [],
   "source": []
  },
  {
   "cell_type": "code",
   "execution_count": null,
   "metadata": {},
   "outputs": [],
   "source": []
  },
  {
   "cell_type": "code",
   "execution_count": null,
   "metadata": {},
   "outputs": [],
   "source": []
  },
  {
   "cell_type": "code",
   "execution_count": null,
   "metadata": {},
   "outputs": [],
   "source": []
  },
  {
   "cell_type": "code",
   "execution_count": null,
   "metadata": {},
   "outputs": [],
   "source": []
  },
  {
   "cell_type": "markdown",
   "metadata": {},
   "source": [
    "<a href='#toc'>Назад к Оглавлению</a>"
   ]
  }
 ],
 "metadata": {
  "kernelspec": {
   "display_name": "Python 3",
   "language": "python",
   "name": "python3"
  },
  "language_info": {
   "codemirror_mode": {
    "name": "ipython",
    "version": 3
   },
   "file_extension": ".py",
   "mimetype": "text/x-python",
   "name": "python",
   "nbconvert_exporter": "python",
   "pygments_lexer": "ipython3",
   "version": "3.6.9"
  }
 },
 "nbformat": 4,
 "nbformat_minor": 4
}
