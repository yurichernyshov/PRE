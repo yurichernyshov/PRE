{
 "cells": [
  {
   "cell_type": "code",
   "execution_count": 7,
   "metadata": {},
   "outputs": [],
   "source": [
    "import dpkt\n",
    "from collections import defaultdict\n",
    "from matplotlib import pyplot as plt\n",
    "import numpy as np\n",
    "from collections import Counter\n",
    "from termcolor import colored"
   ]
  },
  {
   "cell_type": "markdown",
   "metadata": {},
   "source": [
    "#### Функции"
   ]
  },
  {
   "cell_type": "code",
   "execution_count": 351,
   "metadata": {},
   "outputs": [],
   "source": [
    "def intelligent_data_printer(buffer, columns=16):\n",
    "    for i in range(len(buffer)//columns + 1):\n",
    "        if (i+1)*columns < len(buffer):\n",
    "            print(\" \".join([\"{:0=2x}\".format(l) for l in buffer[i*columns:(i+1)*columns]]))\n",
    "        else:\n",
    "            print(\" \".join([\"{:0=2x}\".format(l) for l in buffer[i*columns:]]))\n",
    "\n",
    "def intelligent_data_printer_colored(buffer, columns=16, batch_size=1):\n",
    "    mc = [i[0] for i in cn.most_common(5)]\n",
    "    print(mc)\n",
    "    for i in range(len(buffer)-batch_size+1):\n",
    "        if buffer[i:i+batch_size] in mc:\n",
    "            color='red'\n",
    "        else:\n",
    "            color='blue'\n",
    "        for j in range(batch_size):\n",
    "            print(colored(\"{:0=2x}\".format(buffer[i]), color), end=\" \")\n",
    "        i += j\n",
    "        if (i+1)%columns == 0:\n",
    "            print()\n",
    "            \n",
    "def intelligent_data_drawer(buffer, columns=16):\n",
    "    rows = len(buffer)//columns + 1\n",
    "    fig, ax = plt.subplots(rows, 1, figsize=(20, rows*3))\n",
    "    for i in range(rows):\n",
    "        if (i+1)*columns < len(buffer):\n",
    "            s = [l for l in buffer[i*columns:(i+1)*16]]\n",
    "        else:\n",
    "            s = [l for l in buffer[i*columns:]]\n",
    "        ax[i].scatter(range(len(s)), [c[l] for l in s], c = ['r' if l in [i[0] for i in c.most_common(5)] else 'b' for l in s])\n",
    "        ax[i].set_xticks(range(len(s)))\n",
    "        ax[i].set_xticklabels([hex(l) for l in s])\n",
    "        ax[i].grid(True)\n",
    "\n",
    "def intelligent_data_drawer_batch(buffer, columns=16, batch_size=1):\n",
    "    rows = len(buffer)//columns + 1\n",
    "    fig, ax = plt.subplots(rows, 1, figsize=(20, rows*3))\n",
    "    for i in range(rows):\n",
    "        if (i+1)*columns < len(buffer):\n",
    "            s = [l for l in buffer[i*columns:(i+1)*16]]\n",
    "        else:\n",
    "            s = [l for l in buffer[i*columns:]]\n",
    "\n",
    "        ax[i].scatter(range(len(s)), [c[l] for l in s], c = ['r' if l in [i[0] for i in c.most_common(5)] else 'b' for l in s])\n",
    "        ax[i].set_xticks(range(len(s)))\n",
    "        ax[i].set_xticklabels([hex(l) for l in s])\n",
    "        ax[i].grid(True)        "
   ]
  },
  {
   "cell_type": "markdown",
   "metadata": {},
   "source": [
    "#### Чтение пакетов из файла"
   ]
  },
  {
   "cell_type": "code",
   "execution_count": 3,
   "metadata": {},
   "outputs": [],
   "source": [
    "filename = '/home/yuchernyshov/datasets/small.pcap'"
   ]
  },
  {
   "cell_type": "code",
   "execution_count": 8,
   "metadata": {},
   "outputs": [],
   "source": [
    "fd = open(filename, 'rb')"
   ]
  },
  {
   "cell_type": "code",
   "execution_count": 9,
   "metadata": {},
   "outputs": [
    {
     "ename": "NeedData",
     "evalue": "got 14, 16 needed at least",
     "output_type": "error",
     "traceback": [
      "\u001b[0;31m---------------------------------------------------------------------------\u001b[0m",
      "\u001b[0;31merror\u001b[0m                                     Traceback (most recent call last)",
      "\u001b[0;32m~/.local/lib/python3.6/site-packages/dpkt/dpkt.py\u001b[0m in \u001b[0;36m__init__\u001b[0;34m(self, *args, **kwargs)\u001b[0m\n\u001b[1;32m     88\u001b[0m             \u001b[0;32mtry\u001b[0m\u001b[0;34m:\u001b[0m\u001b[0;34m\u001b[0m\u001b[0;34m\u001b[0m\u001b[0m\n\u001b[0;32m---> 89\u001b[0;31m                 \u001b[0mself\u001b[0m\u001b[0;34m.\u001b[0m\u001b[0munpack\u001b[0m\u001b[0;34m(\u001b[0m\u001b[0margs\u001b[0m\u001b[0;34m[\u001b[0m\u001b[0;36m0\u001b[0m\u001b[0;34m]\u001b[0m\u001b[0;34m)\u001b[0m\u001b[0;34m\u001b[0m\u001b[0;34m\u001b[0m\u001b[0m\n\u001b[0m\u001b[1;32m     90\u001b[0m             \u001b[0;32mexcept\u001b[0m \u001b[0mstruct\u001b[0m\u001b[0;34m.\u001b[0m\u001b[0merror\u001b[0m\u001b[0;34m:\u001b[0m\u001b[0;34m\u001b[0m\u001b[0;34m\u001b[0m\u001b[0m\n",
      "\u001b[0;32m~/.local/lib/python3.6/site-packages/dpkt/dpkt.py\u001b[0m in \u001b[0;36munpack\u001b[0;34m(self, buf)\u001b[0m\n\u001b[1;32m    178\u001b[0m         for k, v in compat_izip(self.__hdr_fields__,\n\u001b[0;32m--> 179\u001b[0;31m                                 struct.unpack(self.__hdr_fmt__, buf[:self.__hdr_len__])):\n\u001b[0m\u001b[1;32m    180\u001b[0m             \u001b[0msetattr\u001b[0m\u001b[0;34m(\u001b[0m\u001b[0mself\u001b[0m\u001b[0;34m,\u001b[0m \u001b[0mk\u001b[0m\u001b[0;34m,\u001b[0m \u001b[0mv\u001b[0m\u001b[0;34m)\u001b[0m\u001b[0;34m\u001b[0m\u001b[0;34m\u001b[0m\u001b[0m\n",
      "\u001b[0;31merror\u001b[0m: unpack requires a buffer of 16 bytes",
      "\nDuring handling of the above exception, another exception occurred:\n",
      "\u001b[0;31mNeedData\u001b[0m                                  Traceback (most recent call last)",
      "\u001b[0;32m<ipython-input-9-ed951f1865f0>\u001b[0m in \u001b[0;36m<module>\u001b[0;34m\u001b[0m\n\u001b[1;32m      1\u001b[0m \u001b[0mpkgs\u001b[0m \u001b[0;34m=\u001b[0m \u001b[0mdefaultdict\u001b[0m\u001b[0;34m(\u001b[0m\u001b[0mdict\u001b[0m\u001b[0;34m)\u001b[0m\u001b[0;34m\u001b[0m\u001b[0;34m\u001b[0m\u001b[0m\n\u001b[0;32m----> 2\u001b[0;31m \u001b[0;32mfor\u001b[0m \u001b[0mi\u001b[0m\u001b[0;34m,\u001b[0m \u001b[0;34m(\u001b[0m\u001b[0mts\u001b[0m\u001b[0;34m,\u001b[0m \u001b[0mpkg\u001b[0m\u001b[0;34m)\u001b[0m \u001b[0;32min\u001b[0m \u001b[0menumerate\u001b[0m\u001b[0;34m(\u001b[0m\u001b[0mdpkt\u001b[0m\u001b[0;34m.\u001b[0m\u001b[0mpcap\u001b[0m\u001b[0;34m.\u001b[0m\u001b[0mReader\u001b[0m\u001b[0;34m(\u001b[0m\u001b[0mfd\u001b[0m\u001b[0;34m)\u001b[0m\u001b[0;34m)\u001b[0m\u001b[0;34m:\u001b[0m\u001b[0;34m\u001b[0m\u001b[0;34m\u001b[0m\u001b[0m\n\u001b[0m\u001b[1;32m      3\u001b[0m     \u001b[0mpkgs\u001b[0m\u001b[0;34m[\u001b[0m\u001b[0mi\u001b[0m\u001b[0;34m]\u001b[0m \u001b[0;34m=\u001b[0m \u001b[0;34m{\u001b[0m\u001b[0;34m'ts'\u001b[0m\u001b[0;34m:\u001b[0m \u001b[0mts\u001b[0m\u001b[0;34m,\u001b[0m \u001b[0;34m'data'\u001b[0m\u001b[0;34m:\u001b[0m \u001b[0mpkg\u001b[0m\u001b[0;34m}\u001b[0m\u001b[0;34m\u001b[0m\u001b[0;34m\u001b[0m\u001b[0m\n",
      "\u001b[0;32m~/.local/lib/python3.6/site-packages/dpkt/pcap.py\u001b[0m in \u001b[0;36m__iter__\u001b[0;34m(self)\u001b[0m\n\u001b[1;32m    349\u001b[0m             \u001b[0;32mif\u001b[0m \u001b[0;32mnot\u001b[0m \u001b[0mbuf\u001b[0m\u001b[0;34m:\u001b[0m\u001b[0;34m\u001b[0m\u001b[0;34m\u001b[0m\u001b[0m\n\u001b[1;32m    350\u001b[0m                 \u001b[0;32mbreak\u001b[0m\u001b[0;34m\u001b[0m\u001b[0;34m\u001b[0m\u001b[0m\n\u001b[0;32m--> 351\u001b[0;31m             \u001b[0mhdr\u001b[0m \u001b[0;34m=\u001b[0m \u001b[0mself\u001b[0m\u001b[0;34m.\u001b[0m\u001b[0m__ph\u001b[0m\u001b[0;34m(\u001b[0m\u001b[0mbuf\u001b[0m\u001b[0;34m)\u001b[0m\u001b[0;34m\u001b[0m\u001b[0;34m\u001b[0m\u001b[0m\n\u001b[0m\u001b[1;32m    352\u001b[0m             \u001b[0mbuf\u001b[0m \u001b[0;34m=\u001b[0m \u001b[0mself\u001b[0m\u001b[0;34m.\u001b[0m\u001b[0m__f\u001b[0m\u001b[0;34m.\u001b[0m\u001b[0mread\u001b[0m\u001b[0;34m(\u001b[0m\u001b[0mhdr\u001b[0m\u001b[0;34m.\u001b[0m\u001b[0mcaplen\u001b[0m\u001b[0;34m)\u001b[0m\u001b[0;34m\u001b[0m\u001b[0;34m\u001b[0m\u001b[0m\n\u001b[1;32m    353\u001b[0m             \u001b[0;32myield\u001b[0m \u001b[0;34m(\u001b[0m\u001b[0mhdr\u001b[0m\u001b[0;34m.\u001b[0m\u001b[0mtv_sec\u001b[0m \u001b[0;34m+\u001b[0m \u001b[0;34m(\u001b[0m\u001b[0mhdr\u001b[0m\u001b[0;34m.\u001b[0m\u001b[0mtv_usec\u001b[0m \u001b[0;34m/\u001b[0m \u001b[0mself\u001b[0m\u001b[0;34m.\u001b[0m\u001b[0m_divisor\u001b[0m\u001b[0;34m)\u001b[0m\u001b[0;34m,\u001b[0m \u001b[0mbuf\u001b[0m\u001b[0;34m)\u001b[0m\u001b[0;34m\u001b[0m\u001b[0;34m\u001b[0m\u001b[0m\n",
      "\u001b[0;32m~/.local/lib/python3.6/site-packages/dpkt/dpkt.py\u001b[0m in \u001b[0;36m__init__\u001b[0;34m(self, *args, **kwargs)\u001b[0m\n\u001b[1;32m     90\u001b[0m             \u001b[0;32mexcept\u001b[0m \u001b[0mstruct\u001b[0m\u001b[0;34m.\u001b[0m\u001b[0merror\u001b[0m\u001b[0;34m:\u001b[0m\u001b[0;34m\u001b[0m\u001b[0;34m\u001b[0m\u001b[0m\n\u001b[1;32m     91\u001b[0m                 \u001b[0;32mif\u001b[0m \u001b[0mlen\u001b[0m\u001b[0;34m(\u001b[0m\u001b[0margs\u001b[0m\u001b[0;34m[\u001b[0m\u001b[0;36m0\u001b[0m\u001b[0;34m]\u001b[0m\u001b[0;34m)\u001b[0m \u001b[0;34m<\u001b[0m \u001b[0mself\u001b[0m\u001b[0;34m.\u001b[0m\u001b[0m__hdr_len__\u001b[0m\u001b[0;34m:\u001b[0m\u001b[0;34m\u001b[0m\u001b[0;34m\u001b[0m\u001b[0m\n\u001b[0;32m---> 92\u001b[0;31m                     \u001b[0;32mraise\u001b[0m \u001b[0mNeedData\u001b[0m\u001b[0;34m(\u001b[0m\u001b[0;34m'got %d, %d needed at least'\u001b[0m \u001b[0;34m%\u001b[0m \u001b[0;34m(\u001b[0m\u001b[0mlen\u001b[0m\u001b[0;34m(\u001b[0m\u001b[0margs\u001b[0m\u001b[0;34m[\u001b[0m\u001b[0;36m0\u001b[0m\u001b[0;34m]\u001b[0m\u001b[0;34m)\u001b[0m\u001b[0;34m,\u001b[0m \u001b[0mself\u001b[0m\u001b[0;34m.\u001b[0m\u001b[0m__hdr_len__\u001b[0m\u001b[0;34m)\u001b[0m\u001b[0;34m)\u001b[0m\u001b[0;34m\u001b[0m\u001b[0;34m\u001b[0m\u001b[0m\n\u001b[0m\u001b[1;32m     93\u001b[0m                 raise UnpackError('invalid %s: %r' %\n\u001b[1;32m     94\u001b[0m                                   (self.__class__.__name__, args[0]))\n",
      "\u001b[0;31mNeedData\u001b[0m: got 14, 16 needed at least"
     ]
    }
   ],
   "source": [
    "pkgs = defaultdict(dict)\n",
    "for i, (ts, pkg) in enumerate(dpkt.pcap.Reader(fd)):\n",
    "    pkgs[i] = {'ts': ts, 'data': pkg}    "
   ]
  },
  {
   "cell_type": "code",
   "execution_count": 10,
   "metadata": {},
   "outputs": [],
   "source": [
    "fd.close()"
   ]
  },
  {
   "cell_type": "code",
   "execution_count": 264,
   "metadata": {},
   "outputs": [
    {
     "data": {
      "text/plain": [
       "4813568"
      ]
     },
     "execution_count": 264,
     "metadata": {},
     "output_type": "execute_result"
    }
   ],
   "source": [
    "len(pkgs.keys())"
   ]
  },
  {
   "cell_type": "code",
   "execution_count": 265,
   "metadata": {},
   "outputs": [],
   "source": [
    "data = pkgs[0]['data']"
   ]
  },
  {
   "cell_type": "code",
   "execution_count": 352,
   "metadata": {},
   "outputs": [
    {
     "name": "stdout",
     "output_type": "stream",
     "text": [
      "[b'      ', b'       ', b'\\x00\\x00\\x01\\x01\\x08\\n', b'\\x08\\x00E\\x00\\x004', b\"\\nd\\x00\\t'B\"]\n",
      "\u001b[34m00\u001b[0m \u001b[34m0c\u001b[0m \u001b[34m29\u001b[0m \u001b[34ma0\u001b[0m \u001b[34mdb\u001b[0m \u001b[34mac\u001b[0m \u001b[34m00\u001b[0m \u001b[34m0c\u001b[0m \u001b[34m29\u001b[0m \u001b[34m9c\u001b[0m \u001b[34m8d\u001b[0m \u001b[34m0f\u001b[0m \u001b[34m81\u001b[0m \u001b[34m00\u001b[0m \u001b[34m00\u001b[0m \u001b[34m40\u001b[0m \n",
      "\u001b[34m08\u001b[0m \u001b[34m00\u001b[0m \u001b[34m45\u001b[0m \u001b[34m00\u001b[0m \u001b[34m00\u001b[0m \u001b[34m39\u001b[0m \u001b[34m60\u001b[0m \u001b[34m82\u001b[0m \u001b[34m40\u001b[0m \u001b[34m00\u001b[0m \u001b[34m40\u001b[0m \u001b[34m06\u001b[0m \u001b[34m1f\u001b[0m \u001b[34mb5\u001b[0m \u001b[34mac\u001b[0m \u001b[34m11\u001b[0m \n",
      "\u001b[34m04\u001b[0m \u001b[34m0a\u001b[0m \u001b[34m0a\u001b[0m \u001b[34m64\u001b[0m \u001b[34m00\u001b[0m \u001b[34m09\u001b[0m \u001b[34m27\u001b[0m \u001b[34m42\u001b[0m \u001b[34m8e\u001b[0m \u001b[34m46\u001b[0m \u001b[34m19\u001b[0m \u001b[34m05\u001b[0m \u001b[34meb\u001b[0m \u001b[34m08\u001b[0m \u001b[34m51\u001b[0m \u001b[34m90\u001b[0m \n",
      "\u001b[34me5\u001b[0m \u001b[34mac\u001b[0m \u001b[34m80\u001b[0m \u001b[34m18\u001b[0m \u001b[34m01\u001b[0m \u001b[34m6a\u001b[0m \u001b[34m10\u001b[0m \u001b[34m0c\u001b[0m \u001b[34m00\u001b[0m \u001b[34m00\u001b[0m \u001b[34m01\u001b[0m \u001b[34m01\u001b[0m \u001b[34m08\u001b[0m \u001b[34m0a\u001b[0m \u001b[34m08\u001b[0m \u001b[34m94\u001b[0m \n",
      "\u001b[34m8b\u001b[0m \u001b[34m8b\u001b[0m \u001b[34mad\u001b[0m \u001b[34m06\u001b[0m \u001b[34mc5\u001b[0m \u001b[34m31\u001b[0m \u001b[34m5a\u001b[0m \u001b[34m42\u001b[0m \u001b[34m58\u001b[0m \u001b[34m44\u001b[0m \u001b[34m01\u001b[0m "
     ]
    }
   ],
   "source": [
    "intelligent_data_printer_colored(data, columns=16)"
   ]
  },
  {
   "cell_type": "markdown",
   "metadata": {},
   "source": [
    "#### Разбор по одному пакету"
   ]
  },
  {
   "cell_type": "code",
   "execution_count": 207,
   "metadata": {},
   "outputs": [],
   "source": [
    "c = Counter()"
   ]
  },
  {
   "cell_type": "code",
   "execution_count": 270,
   "metadata": {},
   "outputs": [],
   "source": [
    "for i in range(len(pkgs)):\n",
    "    for l in pkgs[i]['data']:\n",
    "        c[l] += 1"
   ]
  },
  {
   "cell_type": "code",
   "execution_count": 294,
   "metadata": {},
   "outputs": [
    {
     "data": {
      "image/png": "[encoded data removed]",
      "text/plain": [
       "<matplotlib.figure.Figure at 0x7efe7026f320>"
      ]
     },
     "metadata": {
      "needs_background": "light"
     },
     "output_type": "display_data"
    }
   ],
   "source": [
    "intelligent_data_drawer(pkgs[0]['data'])"
   ]
  },
  {
   "cell_type": "code",
   "execution_count": 220,
   "metadata": {},
   "outputs": [
    {
     "name": "stdout",
     "output_type": "stream",
     "text": [
      "0xd0 0xd  0x10 0xf0 0x48 0xa2 0x0  0x0  0x5e 0x0  0x1  0x0  0x8  0x0  0x45 0x60\n",
      "0x0  0x28 0xbd 0xd8 0x40 0x0  0x78 0x6  0x92 0x80 0x4f 0x87 0x57 0xfc 0xa  0x80\n",
      "0x0  0x14 0x9d 0xc4 0x0  0x16 0x34 0xbe 0xcd 0xfc 0x72 0x16 0x1d 0x8b 0x50 0x10\n",
      "0x1  0xfb 0xcb 0x8b 0x0  0x0  0x5d 0x8f\n"
     ]
    }
   ],
   "source": [
    "intelligent_data_printer(pkgs[0]['data'])"
   ]
  },
  {
   "cell_type": "markdown",
   "metadata": {},
   "source": [
    "#### Поиск N-граммы с самой большой частотой"
   ]
  },
  {
   "cell_type": "code",
   "execution_count": 295,
   "metadata": {},
   "outputs": [],
   "source": [
    "cn = Counter()"
   ]
  },
  {
   "cell_type": "code",
   "execution_count": 303,
   "metadata": {},
   "outputs": [],
   "source": [
    "N = 7\n",
    "for i in range(len(pkgs)):\n",
    "    packet = pkgs[i]['data']\n",
    "    for j in range(len(packet)-N):\n",
    "        cn[packet[j:j+N]] += 1"
   ]
  },
  {
   "cell_type": "code",
   "execution_count": 353,
   "metadata": {},
   "outputs": [
    {
     "data": {
      "text/plain": [
       "[(b'      ', 6278746),\n",
       " (b'       ', 5346087),\n",
       " (b'\\x00\\x00\\x01\\x01\\x08\\n', 3644480),\n",
       " (b'\\x08\\x00E\\x00\\x004', 2234405),\n",
       " (b\"\\nd\\x00\\t'B\", 2055273),\n",
       " (b'\\x00\\x00\\x00\\x00\\x00\\x00', 1775107),\n",
       " (b'\\x00\\x01\\x01\\x08\\n\\xad', 1764186),\n",
       " (b'\\x00\\x00\\x01\\x01\\x08\\n\\xad', 1764186),\n",
       " (b'\\x00\\x00\\x00\\x00\\x00\\x00\\x00', 1116908),\n",
       " (b'\\x00\\x00\\x02\\x04\\x05\\xb4', 961905),\n",
       " (b'>\\n    ', 935127),\n",
       " (b'\\n     ', 924018),\n",
       " (b'\\n      ', 923712),\n",
       " (b'>\\n     ', 898900),\n",
       " (b'     <', 890281),\n",
       " (b'      <', 880099),\n",
       " (b'\\x00\\x02\\x04\\x05\\xb4\\x04', 809518),\n",
       " (b'\\x02\\x04\\x05\\xb4\\x04\\x02', 809518),\n",
       " (b'\\x04\\x05\\xb4\\x04\\x02\\x08', 809518),\n",
       " (b'\\x05\\xb4\\x04\\x02\\x08\\n', 809518)]"
      ]
     },
     "execution_count": 353,
     "metadata": {},
     "output_type": "execute_result"
    }
   ],
   "source": [
    "cn.most_common(20)"
   ]
  },
  {
   "cell_type": "code",
   "execution_count": null,
   "metadata": {},
   "outputs": [],
   "source": []
  },
  {
   "cell_type": "code",
   "execution_count": null,
   "metadata": {},
   "outputs": [],
   "source": []
  }
 ],
 "metadata": {
  "kernelspec": {
   "display_name": "Python 3",
   "language": "python",
   "name": "python3"
  },
  "language_info": {
   "codemirror_mode": {
    "name": "ipython",
    "version": 3
   },
   "file_extension": ".py",
   "mimetype": "text/x-python",
   "name": "python",
   "nbconvert_exporter": "python",
   "pygments_lexer": "ipython3",
   "version": "3.6.9"
  }
 },
 "nbformat": 4,
 "nbformat_minor": 4
}
